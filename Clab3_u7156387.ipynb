{
 "cells": [
  {
   "cell_type": "code",
   "execution_count": 1,
   "metadata": {},
   "outputs": [],
   "source": [
    "import numpy as np\n",
    "import cv2\n",
    "from PIL import Image\n",
    "import matplotlib.pyplot as plt\n",
    "\n",
    "import warnings\n",
    "warnings.filterwarnings(\"ignore\")\n",
    "\n",
    "import math"
   ]
  },
  {
   "cell_type": "markdown",
   "metadata": {},
   "source": [
    "# Task 1"
   ]
  },
  {
   "cell_type": "code",
   "execution_count": 163,
   "metadata": {},
   "outputs": [],
   "source": [
    "# Callback function for the mouse\n",
    "positions=[] \n",
    "count=0\n",
    "def draw_circle(event,x,y,flags,param):\n",
    "    # If the event is a Left Button Click, the coordinates should be saved in the lists.\n",
    "    global positions,count\n",
    "    if event == cv2.EVENT_LBUTTONUP:\n",
    "        cv2.circle(stereo,(x,y),2,(255,0,0),-1)\n",
    "        positions.append([x,y])\n",
    "        count+=1\n",
    "\n",
    "\n",
    "# Reading the image and storing it in variable stereo\n",
    "stereo = cv2.imread('Python user/stereo2012a.png')\n",
    "\n",
    "# window defining\n",
    "cv2.namedWindow('image')\n",
    "\n",
    "cv2.setMouseCallback('image',draw_circle)\n",
    "\n",
    "while(True):\n",
    "    cv2.imshow('image',stereo)\n",
    "    k = cv2.waitKey(20) & 0xFF\n",
    "    # Exits when pressed Escape or when all 6 points are selected\n",
    "    if k == 27 or count==6:\n",
    "        break\n",
    "\n",
    "cv2.destroyAllWindows()\n"
   ]
  },
  {
   "cell_type": "code",
   "execution_count": 164,
   "metadata": {},
   "outputs": [],
   "source": [
    "cv2.imshow('Stereo with chosen xyz points', stereo)\n",
    "  \n",
    "# waits for a key to be pressed by the user\n",
    "# This is required to prevent the Python kernel from crashing.\n",
    "cv2.waitKey(0) \n",
    "  \n",
    "# all open windows should be closed\n",
    "cv2.destroyAllWindows() "
   ]
  },
  {
   "cell_type": "code",
   "execution_count": 25,
   "metadata": {},
   "outputs": [
    {
     "name": "stdout",
     "output_type": "stream",
     "text": [
      "[[358, 299], [402, 308], [376, 380], [333, 368], [284, 312], [275, 264]]\n"
     ]
    }
   ],
   "source": [
    "uv=positions.copy()\n",
    "print(uv)"
   ]
  },
  {
   "cell_type": "code",
   "execution_count": 140,
   "metadata": {},
   "outputs": [
    {
     "name": "stdout",
     "output_type": "stream",
     "text": [
      "Calibration Matrix(C)\n",
      "[[ 0.66089574 -0.11542858 -0.51452179 -0.00853066]\n",
      " [ 0.15304782 -0.7352157   0.35986903 -0.00180281]\n",
      " [-0.02592132 -0.02144844 -0.02461616  1.        ]]\n",
      "\n",
      " DLT Mean Error\n",
      "0.1028974043451584\n"
     ]
    }
   ],
   "source": [
    "def Normalization(nd, x):\n",
    "    '''\n",
    "    Coordinate normalisation (centroid to origin and sqrt mean distance) (2 or 3).\n",
    "    Input\n",
    "    -----\n",
    "    nd: number of dimensions, 3 in our case\n",
    "    x: the data that needs to be normalised (various directions in various columns and points in various rows)\n",
    "    Output\n",
    "    ------\n",
    "    Tr: the matrix of transformations (translation plus scaling)\n",
    "    x: the data that has been altered\n",
    "    '''\n",
    "\n",
    "    x = np.asarray(x)\n",
    "    m, s = np.mean(x, 0), np.std(x)\n",
    "    if nd == 2:\n",
    "        Tr = np.array([[s, 0, m[0]], [0, s, m[1]], [0, 0, 1]])\n",
    "    else:\n",
    "        Tr = np.array([[s, 0, 0, m[0]], [0, s, 0, m[1]], [0, 0, s, m[2]], [0, 0, 0, 1]])\n",
    "        \n",
    "    Tr = np.linalg.inv(Tr)\n",
    "    x = np.dot( Tr, np.concatenate( (x.T, np.ones((1,x.shape[0]))) ) )\n",
    "    x = x[0:nd, :].T\n",
    "\n",
    "    return Tr, x\n",
    "\n",
    "\n",
    "def calibrate(nd, xyz, uv):\n",
    "    '''\n",
    "    %% TASK 1: CALIBRATE\n",
    "    %\n",
    "    % Function to perform camera calibration\n",
    "    %\n",
    "    % Usage:   calibrate(image, XYZ, uv)\n",
    "    %          return C\n",
    "    %   Where:   image - is the image of the calibration target.\n",
    "    %            XYZ - is a N x 3 array of  XYZ coordinates\n",
    "    %                  of the calibration target points. \n",
    "    %            uv  - is a N x 2 array of the image coordinates\n",
    "    %                  of the calibration target points.\n",
    "    %            K   - is the 3 x 4 camera calibration matrix.\n",
    "    %  The variable N should be an integer greater than or equal to 6.\n",
    "    %\n",
    "    %  This function plots the uv coordinates onto the image of the calibration\n",
    "    %  target. \n",
    "    %\n",
    "    %  It also projects the XYZ coordinates back into image coordinates using\n",
    "    %  the calibration matrix and plots these points too as \n",
    "    %  a visual check on the accuracy of the calibration process.\n",
    "    %\n",
    "    %  Lines from the origin to the vanishing points in the X, Y and Z\n",
    "    %  directions are overlaid on the image. \n",
    "    %\n",
    "    %  The mean squared error between the positions of the uv coordinates \n",
    "    %  and the projected XYZ coordinates is also reported.\n",
    "    %\n",
    "    %  The function should also report the error in satisfying the \n",
    "    %  camera calibration matrix constraints.\n",
    "    % \n",
    "    % Saswat Panda, 30/05/2021 \n",
    "    '''\n",
    "    if (nd != 3):\n",
    "        raise ValueError('%dD DLT unsupported.' %(nd))\n",
    "    \n",
    "    # Converting all variables to numpy array\n",
    "    xyz = np.asarray(xyz)\n",
    "    uv = np.asarray(uv)\n",
    "\n",
    "    n = xyz.shape[0]\n",
    "\n",
    "    # Validating the parameters:\n",
    "    if uv.shape[0] != n:\n",
    "        raise ValueError('Object (%d points) and image (%d points) have different number of points.' %(n, uv.shape[0]))\n",
    "\n",
    "    if (xyz.shape[1] != 3):\n",
    "        raise ValueError('The number of coordinates is incorrect (%d) for %dD DLT (It ought to be %d).' %(xyz.shape[1],nd,nd))\n",
    "\n",
    "    if (n < 6):\n",
    "        raise ValueError('%dD DLT requires a minimum of %d calibration points. There were only %d points chosen.' %(nd, 2*nd, n))\n",
    "        \n",
    "    # To improve the DLT quality, normalise the data (Since, The system of coordinates has an impact on DLT.).\n",
    "    # When there is a significant perspective distortion, this is important.\n",
    "    # Normalization: mean position at origin and mean distance equals to 1 at each direction.\n",
    "    Txyz, xyzn = Normalization(nd, xyz)\n",
    "    Tuv, uvn = Normalization(2, uv)\n",
    "\n",
    "    A = []\n",
    "\n",
    "    for i in range(n):\n",
    "        x, y, z = xyzn[i, 0], xyzn[i, 1], xyzn[i, 2]\n",
    "        u, v = uvn[i, 0], uvn[i, 1]\n",
    "        A.append( [x, y, z, 1, 0, 0, 0, 0, -u * x, -u * y, -u * z, -u] )\n",
    "        A.append( [0, 0, 0, 0, x, y, z, 1, -v * x, -v * y, -v * z, -v] )\n",
    "\n",
    "    # Converting A to numpy array\n",
    "    A = np.asarray(A) \n",
    "\n",
    "    # Find the 11 parameters:\n",
    "    U, S, V = np.linalg.svd(A)\n",
    "\n",
    "    # In the last line of Vh the parameters should be normalized\n",
    "    L = V[-1, :] / V[-1, -1]\n",
    "    # Camera projection matrix\n",
    "    H = L.reshape(3, nd + 1)\n",
    "\n",
    "    # Denormalizing\n",
    "    # pinv is the Moore-Penrose pseudo-inverse of a matrix, which is the generalised inverse of \n",
    "    # a matrix, calculated using its SVD.\n",
    "    H = np.dot( np.dot( np.linalg.pinv(Tuv), H ), Txyz )\n",
    "\n",
    "    H = H / H[-1, -1]\n",
    "    L = L.reshape((3,4))\n",
    "\n",
    "\n",
    "    # The DLT's mean error (In units of camera coordinates, the mean residual of the DLT transformation) is:\n",
    "    uv2 = np.dot( H, np.concatenate( (xyz.T, np.ones((1, xyz.shape[0]))) ) ) \n",
    "    uv2 = uv2 / uv2[2, :] \n",
    "    # The mean distance is calculated as below\n",
    "    err = np.sqrt( np.mean(np.sum( (uv2[0:2, :].T - uv)**2, 1)) ) \n",
    "\n",
    "    return L, err\n",
    "\n",
    "\n",
    "\n",
    "# Selected 3D co-ordinates, set of 6\n",
    "xyz = [[7,7,0], [14,7,0], [14,0,7], [7,0,7], [0,7,7], [0,14,7]]\n",
    "# uv found using cv2 for the corresponding xyz co-ordinates\n",
    "uv = [[358, 299], [402, 308], [376, 380], [333, 368], [284, 312], [275, 264]]\n",
    "\n",
    "nd = 3\n",
    "C, err = calibrate(nd, xyz, uv)\n",
    "print('Calibration Matrix(C)')\n",
    "print(C)\n",
    "print('\\n DLT Mean Error')\n",
    "print(err)\n"
   ]
  },
  {
   "cell_type": "code",
   "execution_count": 141,
   "metadata": {},
   "outputs": [
    {
     "name": "stdout",
     "output_type": "stream",
     "text": [
      "3 | [[ 0.66089574 -0.11542858 -0.51452179]\n",
      " [ 0.15304782 -0.7352157   0.35986903]\n",
      " [-0.02592132 -0.02144844 -0.02461616]]\n",
      "K obtained from C\n",
      "[[20.24836923  0.12209739 -1.14504132]\n",
      " [ 0.         19.90373409  1.6936681 ]\n",
      " [ 0.          0.          1.        ]]\n",
      "R obtained from C\n",
      "[[ 0.74634901 -0.16076031 -0.64584772]\n",
      " [ 0.23736035 -0.84228809  0.48395334]\n",
      " [-0.62179033 -0.51449673 -0.59048277]]\n",
      "t obtained from C\n",
      "[14.38620037 10.83888278 16.0306739 ]\n"
     ]
    }
   ],
   "source": [
    "def vgg_rq(S):\n",
    "    S = S.T\n",
    "    [Q,U] = np.linalg.qr(S[::-1,::-1], mode='complete')\n",
    "\n",
    "    Q = Q.T\n",
    "    Q = Q[::-1, ::-1]\n",
    "    U = U.T\n",
    "    U = U[::-1, ::-1]\n",
    "    if np.linalg.det(Q)<0:\n",
    "        U[:,0] = -U[:,0]\n",
    "        Q[0,:] = -Q[0,:]\n",
    "    return U,Q\n",
    "\n",
    "\n",
    "def vgg_KR_from_P(P, noscale = True):\n",
    "    N = P.shape[0]\n",
    "    H = P[:,0:N]\n",
    "    print(N,'|', H)\n",
    "    [K,R] = vgg_rq(H)\n",
    "    if noscale:\n",
    "        K = K / K[N-1,N-1]\n",
    "        if K[0,0] < 0:\n",
    "            D = np.diag([-1, -1, np.ones([1,N-2])]);\n",
    "            K = K @ D\n",
    "            R = D @ R\n",
    "        \n",
    "            test = K*R; \n",
    "            assert (test/test[0,0] - H/H[0,0]).all() <= 1e-07\n",
    "    \n",
    "    t = np.linalg.inv(-P[:,0:N]) @ P[:,-1]\n",
    "    return K, R, t\n",
    "\n",
    "K, R, t = vgg_KR_from_P(C)\n",
    "\n",
    "print('K obtained from C')\n",
    "print(K)\n",
    "print('R obtained from C')\n",
    "print(R)\n",
    "print('t obtained from C')\n",
    "print(t)"
   ]
  },
  {
   "cell_type": "code",
   "execution_count": 162,
   "metadata": {},
   "outputs": [
    {
     "name": "stdout",
     "output_type": "stream",
     "text": [
      "\n"
     ]
    }
   ],
   "source": [
    "stereo = cv2.imread('Python user/stereo2012a.png')\n",
    "\n",
    "x,y,z, one = np.hsplit(np.array([[7,7,0,1], [14,7,0,1], [14,0,7,1], [7,0,7,1], [0,7,7,1], [0,14,7,1]]),4)\n",
    "xyz_np = np.concatenate([x.reshape(1,6),y.reshape(1,6),z.reshape(1,6),one.reshape(1,6)])\n",
    "\n",
    "a = np.matmul(K,np.concatenate((R,t.reshape(3,1)),axis=1))\n",
    "\n",
    "print()\n",
    "uv_found = np.matmul(a,xyz_np)\n",
    "u_f, v_f, _ = np.vsplit(uv_found, 3)\n",
    "# u_f[0][1]\n",
    "for i in range(u_f.size):\n",
    "    cv2.circle(stereo,(int(u_f[0][i]),int(v_f[0][i])),2,(255,0,0),-1)\n",
    "    \n",
    "cv2.imshow('Projection of XYZ back using Calibration Matrix', stereo)\n",
    "  \n",
    "# waits for a key to be pressed by the user\n",
    "# This is required to prevent the Python kernel from crashing.\n",
    "cv2.waitKey(0) \n",
    "  \n",
    "# all open windows should be closed\n",
    "cv2.destroyAllWindows() \n"
   ]
  },
  {
   "cell_type": "code",
   "execution_count": 31,
   "metadata": {},
   "outputs": [],
   "source": [
    "stereo1 = cv2.imread('Python user/stereo2012a.png')\n",
    "H, W, _ = stereo1.shape\n",
    "dim = (int(W/2), int(H/2))\n",
    "stereo1_r = cv2.resize(stereo1, dim, interpolation = cv2.INTER_NEAREST)\n",
    "cv2.imshow('Stereo with chosen xyz points', stereo)\n",
    "  \n",
    "# waits for a key to be pressed by the user\n",
    "# This is required to prevent the Python kernel from crashing.\n",
    "cv2.waitKey(0) \n",
    "  \n",
    "# all open windows should be closed\n",
    "cv2.destroyAllWindows() "
   ]
  },
  {
   "cell_type": "code",
   "execution_count": 32,
   "metadata": {},
   "outputs": [],
   "source": [
    "# Callback function for the mouse\n",
    "positions=[] \n",
    "count=0\n",
    "def draw_circle(event,x,y,flags,param):\n",
    "    # If the event is a Left Button Click, the coordinates should be saved in the lists.\n",
    "    global positions,count\n",
    "    if event == cv2.EVENT_LBUTTONUP:\n",
    "        cv2.circle(stereo1_r,(x,y),2,(255,0,0),-1)\n",
    "        positions.append([x,y])\n",
    "        count+=1\n",
    "\n",
    "\n",
    "# window defining\n",
    "cv2.namedWindow('image')\n",
    "\n",
    "cv2.setMouseCallback('image',draw_circle)\n",
    "\n",
    "while(True):\n",
    "    cv2.imshow('image',stereo1_r)\n",
    "    k = cv2.waitKey(20) & 0xFF\n",
    "    if k == 27 or count==6:\n",
    "        break\n",
    "\n",
    "cv2.destroyAllWindows()"
   ]
  },
  {
   "cell_type": "code",
   "execution_count": 33,
   "metadata": {},
   "outputs": [],
   "source": [
    "cv2.imshow('Stereo of resized img with xyz points', stereo1_r)\n",
    "  \n",
    "# waits for a key to be pressed by the user\n",
    "# This is required to prevent the Python kernel from crashing.\n",
    "cv2.waitKey(0) \n",
    "  \n",
    "# all open windows should be closed\n",
    "cv2.destroyAllWindows() "
   ]
  },
  {
   "cell_type": "code",
   "execution_count": 46,
   "metadata": {},
   "outputs": [
    {
     "name": "stdout",
     "output_type": "stream",
     "text": [
      "[[179, 149], [201, 154], [188, 190], [167, 184], [142, 156], [137, 132]]\n"
     ]
    }
   ],
   "source": [
    "uv_rez = positions.copy()\n",
    "print(uv_rez)"
   ]
  },
  {
   "cell_type": "code",
   "execution_count": 127,
   "metadata": {},
   "outputs": [
    {
     "name": "stdout",
     "output_type": "stream",
     "text": [
      "Calibration Matrix(C') of resized image\n",
      "[[ 0.66089574 -0.11542858 -0.51452179 -0.00853066]\n",
      " [ 0.15304782 -0.7352157   0.35986903 -0.00180281]\n",
      " [-0.02592132 -0.02144844 -0.02461616  1.        ]]\n",
      "\n",
      " DLT Mean Error of resized image\n",
      "0.051448702172584924\n"
     ]
    }
   ],
   "source": [
    "# Selected 3D co-ordinates, set of 6\n",
    "xyz = [[7,7,0], [14,7,0], [14,0,7], [7,0,7], [0,7,7], [0,14,7]]\n",
    "\n",
    "# uv_rez = [[179, 149], [201, 154], [188, 190], [167, 184], [142, 156], [137, 132]] \n",
    "# Above is the original uv resized list, it has been modified slightly to make it exactly half \n",
    "uv_rez = [[179, 149.5], [201, 154], [188, 190], [166.5, 184], [142, 156], [137.5, 132]]\n",
    "nd = 3\n",
    "C, err = calibrate(nd, xyz, uv_rez)\n",
    "print('Calibration Matrix(C\\') of resized image')\n",
    "print(C)\n",
    "print('\\n DLT Mean Error of resized image')\n",
    "print(err)"
   ]
  },
  {
   "cell_type": "code",
   "execution_count": 128,
   "metadata": {},
   "outputs": [
    {
     "name": "stdout",
     "output_type": "stream",
     "text": [
      "3 | [[ 0.66089574 -0.11542858 -0.51452179]\n",
      " [ 0.15304782 -0.7352157   0.35986903]\n",
      " [-0.02592132 -0.02144844 -0.02461616]]\n",
      "K' obtained from C\n",
      "[[20.24836923  0.12209739 -1.14504132]\n",
      " [ 0.         19.90373409  1.6936681 ]\n",
      " [ 0.          0.          1.        ]]\n",
      "R' obtained from C\n",
      "[[ 0.74634901 -0.16076031 -0.64584772]\n",
      " [ 0.23736035 -0.84228809  0.48395334]\n",
      " [-0.62179033 -0.51449673 -0.59048277]]\n",
      "t' obtained from C\n",
      "[14.38620037 10.83888278 16.0306739 ]\n"
     ]
    }
   ],
   "source": [
    "K, R, t = vgg_KR_from_P(C)\n",
    "\n",
    "print('K\\' obtained from C')\n",
    "print(K)\n",
    "print('R\\' obtained from C')\n",
    "print(R)\n",
    "print('t\\' obtained from C')\n",
    "print(t)\n"
   ]
  },
  {
   "cell_type": "markdown",
   "metadata": {},
   "source": [
    "# Task 2"
   ]
  },
  {
   "cell_type": "code",
   "execution_count": 90,
   "metadata": {},
   "outputs": [],
   "source": [
    "# Callback function for the mouse\n",
    "points = []\n",
    "count=0\n",
    "def draw_circle(event,x,y,flags,param):\n",
    "    # If the event is a Left Button Click, the coordinates should be saved in the lists.\n",
    "    global points,count\n",
    "    if event == cv2.EVENT_LBUTTONUP:\n",
    "        cv2.circle(L_building,(x,y),2,(255,0,0),-1)\n",
    "        points.append([x,y])\n",
    "        count+=1\n",
    "\n",
    "\n",
    "# Reading the image and storing it in variable L_building\n",
    "L_building = cv2.imread('Python user/Left.jpg')\n",
    "\n",
    "# window defining\n",
    "cv2.namedWindow('image1')\n",
    "\n",
    "cv2.setMouseCallback('image1',draw_circle)\n",
    "\n",
    "while(True):\n",
    "    cv2.imshow('image1',L_building)\n",
    "    k = cv2.waitKey(20) & 0xFF\n",
    "    if k == 27 or count == 4:\n",
    "        break\n",
    "\n",
    "cv2.destroyAllWindows()\n"
   ]
  },
  {
   "cell_type": "code",
   "execution_count": 167,
   "metadata": {},
   "outputs": [
    {
     "name": "stdout",
     "output_type": "stream",
     "text": [
      "[[175, 152], [177, 175], [235, 185], [234, 159]]\n"
     ]
    }
   ],
   "source": [
    "print(points)"
   ]
  },
  {
   "cell_type": "code",
   "execution_count": null,
   "metadata": {},
   "outputs": [],
   "source": [
    "cv2.imshow('Selected points in Left Building', L_building)\n",
    "  \n",
    "# waits for a key to be pressed by the user\n",
    "# This is required to prevent the Python kernel from crashing.\n",
    "cv2.waitKey(0) \n",
    "  \n",
    "# all open windows should be closed\n",
    "cv2.destroyAllWindows() "
   ]
  },
  {
   "cell_type": "code",
   "execution_count": 93,
   "metadata": {},
   "outputs": [],
   "source": [
    "# Callback function for the mouse\n",
    "points1 = []\n",
    "count=0\n",
    "def draw_circle(event,x,y,flags,param):\n",
    "    # If the event is a Left Button Click, the coordinates should be saved in the lists.\n",
    "    global points1,count\n",
    "    if event == cv2.EVENT_LBUTTONUP:\n",
    "        cv2.circle(R_building,(x,y),2,(255,0,0),-1)\n",
    "        points1.append([x,y])\n",
    "        count+=1\n",
    "\n",
    "\n",
    "# Reading the image and storing it in variable R_building\n",
    "R_building = cv2.imread('Python user/Right.jpg')\n",
    "\n",
    "# window defining\n",
    "cv2.namedWindow('image2')\n",
    "\n",
    "cv2.setMouseCallback('image2',draw_circle)\n",
    "\n",
    "while(True):\n",
    "    cv2.imshow('image2',R_building)\n",
    "    k = cv2.waitKey(20) & 0xFF\n",
    "    if k == 27 or count == 4:\n",
    "        break\n",
    "\n",
    "cv2.destroyAllWindows()"
   ]
  },
  {
   "cell_type": "code",
   "execution_count": 74,
   "metadata": {},
   "outputs": [
    {
     "name": "stdout",
     "output_type": "stream",
     "text": [
      "[[208, 184], [209, 205], [284, 204], [284, 182]]\n"
     ]
    }
   ],
   "source": [
    "print(points1)"
   ]
  },
  {
   "cell_type": "code",
   "execution_count": 95,
   "metadata": {},
   "outputs": [],
   "source": [
    "cv2.imshow('Corresponding points in Right Building', R_building)\n",
    "  \n",
    "# waits for a key to be pressed by the user\n",
    "# This is required to prevent the Python kernel from crashing.\n",
    "cv2.waitKey(0) \n",
    "  \n",
    "# all open windows should be closed\n",
    "cv2.destroyAllWindows() "
   ]
  },
  {
   "cell_type": "code",
   "execution_count": 165,
   "metadata": {},
   "outputs": [
    {
     "name": "stdout",
     "output_type": "stream",
     "text": [
      "The homography matrix(H) calculated using the DLT algorithm is:\n",
      "[[ 2.20267020e+00 -2.04532968e-01 -9.03400798e+01]\n",
      " [ 1.77345385e-01  1.07672588e+00  3.88744727e+01]\n",
      " [ 1.97181842e-03 -4.97722561e-04  1.00000000e+00]]\n"
     ]
    }
   ],
   "source": [
    "points = np.array([[175, 152], [177, 175], [235, 185], [234, 159]])\n",
    "points1 = np.array([[208, 184], [209, 205], [284, 204], [284, 182]])\n",
    "def homography(u2Trans, v2Trans, uBase, vBase):\n",
    "    '''\n",
    "    %% TASK 2: \n",
    "    % Computes the homography H applying the Direct Linear Transformation \n",
    "    % The transformation is such that \n",
    "    % p = np.matmul(H, p.T), i.e.,\n",
    "    % (uBase, vBase, 1).T = np.matmul(H, (u2Trans , v2Trans, 1).T)\n",
    "    % Note: we assume (a, b, c) => np.concatenate((a, b, c), axis), be careful when \n",
    "    % deal the value of axis \n",
    "    %\n",
    "    % INPUTS: \n",
    "    % u2Trans, v2Trans - vectors with coordinates u and v of the transformed image point (p') \n",
    "    % uBase, vBase - vectors with coordinates u and v of the original base image point p  \n",
    "    % \n",
    "    % OUTPUT \n",
    "    % H - a 3x3 Homography matrix  \n",
    "    % \n",
    "    % Saswat Panda, 30/05/2021 \n",
    "    '''\n",
    "    global points, points1\n",
    "    points = np.column_stack((points,np.ones(points.shape[0]))).T\n",
    "    points1 = np.column_stack((points1,np.ones(points1.shape[0]))).T\n",
    "\n",
    "    p1 = points[:-1,:].T\n",
    "    p2 = points1[:-1,:].T\n",
    "\n",
    "\n",
    "\n",
    "    # Computing the 0th row of A \n",
    "    A_up = np.column_stack((p1,np.ones(p1.shape[0]),np.zeros((p1.shape[0],3)),-p1[:,0]*p2[:,0],-p1[:,1]*p2[:,0],-p2[:,0]))\n",
    "    # Computing the 1st row of A \n",
    "    A_below = np.column_stack((np.zeros((p1.shape[0],3)),p1,np.ones(p1.shape[0]),-p1[:,0]*p2[:,1],-p1[:,1]*p2[:,1],-p2[:,1]))\n",
    "\n",
    "    # Stacking oth and 1st rows\n",
    "    A = np.vstack((A_up,A_below))\n",
    "\n",
    "    # Computing the SVD\n",
    "    result = np.linalg.svd(A)[-1][-1]\n",
    "    # The parameters should be normalised for the last line too.\n",
    "    result = result/result[-1]\n",
    "\n",
    "    # Reshaping the result\n",
    "    result = result.reshape((p1.shape[1]+1,-1))\n",
    "\n",
    "    H = result \n",
    "\n",
    "    return H \n",
    "\n",
    "\n",
    "# horizontally splitting the points and points1 for converting to desired input\n",
    "H = homography(np.hsplit(points1, 2)[0],np.hsplit(points1, 2)[1],np.hsplit(points, 2)[0],np.hsplit(points, 2)[1])\n",
    "print(\"The homography matrix(H) calculated using the DLT algorithm is:\")\n",
    "print(H)"
   ]
  },
  {
   "cell_type": "code",
   "execution_count": 86,
   "metadata": {},
   "outputs": [],
   "source": [
    "L_building_1 = cv2.imread('Python user/Left.jpg')\n",
    "height, width, _ = L_building_1.shape\n",
    "im1Reg = cv2.warpPerspective(L_building_1, H, (width, height))\n",
    "# Using cv2.imshow() method \n",
    "# Displaying the image \n",
    "cv2.imshow('Left warped', im1Reg)\n",
    "  \n",
    "#waits for user to press any key \n",
    "#(this is necessary to avoid Python kernel form crashing)\n",
    "cv2.waitKey(0) \n",
    "  \n",
    "#closing all open windows \n",
    "cv2.destroyAllWindows() "
   ]
  },
  {
   "cell_type": "code",
   "execution_count": 88,
   "metadata": {},
   "outputs": [],
   "source": [
    "# getting the points for warped image\n",
    "# Callback function for the mouse\n",
    "points_w = []\n",
    "count=0\n",
    "def draw_circle(event,x,y,flags,param):\n",
    "    # If the event is a Left Button Click, the coordinates should be saved in the lists.\n",
    "    global points_w,count\n",
    "    if event == cv2.EVENT_LBUTTONUP:\n",
    "        cv2.circle(im1Reg,(x,y),2,(255,0,0),-1)\n",
    "        points_w.append([x,y])\n",
    "        count+=1\n",
    "\n",
    "\n",
    "\n",
    "# window defining\n",
    "cv2.namedWindow('Points in warped image')\n",
    "\n",
    "cv2.setMouseCallback('Points in warped image',draw_circle)\n",
    "\n",
    "while(True):\n",
    "    cv2.imshow('Points in warped image',im1Reg)\n",
    "    k = cv2.waitKey(20) & 0xFF\n",
    "    if k == 27 or count == 4:\n",
    "        break\n",
    "\n",
    "cv2.destroyAllWindows()\n"
   ]
  },
  {
   "cell_type": "code",
   "execution_count": 84,
   "metadata": {},
   "outputs": [
    {
     "name": "stdout",
     "output_type": "stream",
     "text": [
      "[[208, 184], [207, 205], [284, 205], [285, 182]]\n"
     ]
    }
   ],
   "source": [
    "print(points_w)"
   ]
  },
  {
   "cell_type": "code",
   "execution_count": 179,
   "metadata": {},
   "outputs": [
    {
     "name": "stdout",
     "output_type": "stream",
     "text": [
      "The distance between invidual corresponding points are  [0.0, 2.0, 1.0, 1.0]\n",
      "The mean of distances  1.0\n"
     ]
    }
   ],
   "source": [
    "points1 = np.array([[208, 184], [209, 205], [284, 204], [284, 182]])\n",
    "points_w = np.array([[208, 184], [207, 205], [284, 205], [285, 182]])\n",
    "d = []\n",
    "\n",
    "for i in range(points1.shape[0]):\n",
    "    d.append(math.dist(points1[i], points_w[i]))\n",
    "\n",
    "print('The distance between invidual corresponding points are ',d)\n",
    "\n",
    "print('The mean of distances ',np.mean(np.array(d)))"
   ]
  },
  {
   "cell_type": "raw",
   "metadata": {},
   "source": [
    "**References**\n",
    "1) Lecture Slides\n",
    "2) Clab3 Tutorial\n",
    "3) http://www.cs.cmu.edu/~16385/s17/Slides/10.2_2D_Alignment__DLT.pdf\n",
    "4) https://github.com/acvictor/DLT/blob/master/DLT.py\n",
    "5) https://www.programmersought.com/article/73043739731/\n",
    "6) https://medium.com/acmvit/how-to-project-an-image-in-perspective-view-of-a-background-image-opencv-python-d101bdf966bc"
   ]
  }
 ],
 "metadata": {
  "kernelspec": {
   "display_name": "Python 3",
   "language": "python",
   "name": "python3"
  },
  "language_info": {
   "codemirror_mode": {
    "name": "ipython",
    "version": 3
   },
   "file_extension": ".py",
   "mimetype": "text/x-python",
   "name": "python",
   "nbconvert_exporter": "python",
   "pygments_lexer": "ipython3",
   "version": "3.8.5"
  }
 },
 "nbformat": 4,
 "nbformat_minor": 4
}
